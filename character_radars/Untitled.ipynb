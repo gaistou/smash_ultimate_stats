{
 "cells": [
  {
   "cell_type": "code",
   "execution_count": 1,
   "id": "24f9cc01-0673-4e49-afd8-19ddb8b7f7d5",
   "metadata": {},
   "outputs": [
    {
     "name": "stdout",
     "output_type": "stream",
     "text": [
      "Mosaic image saved as all_characters.png\n"
     ]
    }
   ],
   "source": [
    "from PIL import Image\n",
    "import os\n",
    "\n",
    "# Set the path to the folder containing the images\n",
    "image_folder = '.'  # Update this with your actual path\n",
    "output_image_path = 'all_characters.png'\n",
    "\n",
    "# Load all images\n",
    "image_files = [os.path.join(image_folder, f) for f in os.listdir(image_folder) if f.endswith(('png', 'jpg', 'jpeg'))]\n",
    "image_files.sort()  # Optional: sort the images to maintain a specific order\n",
    "\n",
    "# Assuming all images are square and of the same size\n",
    "image_size = Image.open(image_files[0]).size\n",
    "images_per_row = int(len(image_files) ** 0.5)\n",
    "\n",
    "# Create a blank canvas for the mosaic\n",
    "mosaic_image = Image.new('RGB', (image_size[0] * images_per_row, image_size[1] * images_per_row))\n",
    "\n",
    "# Paste images into the mosaic\n",
    "for index, image_file in enumerate(image_files):\n",
    "    image = Image.open(image_file)\n",
    "    row = index // images_per_row\n",
    "    col = index % images_per_row\n",
    "    mosaic_image.paste(image, (col * image_size[0], row * image_size[1]))\n",
    "\n",
    "# Save the mosaic image\n",
    "mosaic_image.save(output_image_path)\n",
    "print(f\"Mosaic image saved as {output_image_path}\")\n"
   ]
  }
 ],
 "metadata": {
  "kernelspec": {
   "display_name": "Python 3 (ipykernel)",
   "language": "python",
   "name": "python3"
  },
  "language_info": {
   "codemirror_mode": {
    "name": "ipython",
    "version": 3
   },
   "file_extension": ".py",
   "mimetype": "text/x-python",
   "name": "python",
   "nbconvert_exporter": "python",
   "pygments_lexer": "ipython3",
   "version": "3.11.8"
  }
 },
 "nbformat": 4,
 "nbformat_minor": 5
}
